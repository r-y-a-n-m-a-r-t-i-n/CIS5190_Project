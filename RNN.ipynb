{
 "cells": [
  {
   "cell_type": "markdown",
   "metadata": {
    "id": "x6pe8NbLThMZ"
   },
   "source": [
    "Imports: "
   ]
  },
  {
   "cell_type": "code",
   "execution_count": 1,
   "metadata": {
    "colab": {
     "base_uri": "https://localhost:8080/"
    },
    "id": "qK44EYCPo5e6",
    "outputId": "919fd302-bde5-4625-b6d3-83b997627337"
   },
   "outputs": [
    {
     "name": "stdout",
     "output_type": "stream",
     "text": [
      "Looking in indexes: https://pypi.org/simple, https://pip.repos.neuron.amazonaws.com\n",
      "Requirement already satisfied: spacy in /home/ec2-user/anaconda3/envs/pytorch_p39/lib/python3.9/site-packages (3.5.2)\n",
      "Requirement already satisfied: srsly<3.0.0,>=2.4.3 in /home/ec2-user/anaconda3/envs/pytorch_p39/lib/python3.9/site-packages (from spacy) (2.4.5)\n",
      "Requirement already satisfied: cymem<2.1.0,>=2.0.2 in /home/ec2-user/anaconda3/envs/pytorch_p39/lib/python3.9/site-packages (from spacy) (2.0.7)\n",
      "Requirement already satisfied: jinja2 in /home/ec2-user/anaconda3/envs/pytorch_p39/lib/python3.9/site-packages (from spacy) (3.1.2)\n",
      "Requirement already satisfied: smart-open<7.0.0,>=5.2.1 in /home/ec2-user/anaconda3/envs/pytorch_p39/lib/python3.9/site-packages (from spacy) (5.2.1)\n",
      "Requirement already satisfied: typer<0.8.0,>=0.3.0 in /home/ec2-user/anaconda3/envs/pytorch_p39/lib/python3.9/site-packages (from spacy) (0.4.2)\n",
      "Requirement already satisfied: pathy>=0.10.0 in /home/ec2-user/anaconda3/envs/pytorch_p39/lib/python3.9/site-packages (from spacy) (0.10.1)\n",
      "Requirement already satisfied: wasabi<1.2.0,>=0.9.1 in /home/ec2-user/anaconda3/envs/pytorch_p39/lib/python3.9/site-packages (from spacy) (0.10.1)\n",
      "Requirement already satisfied: langcodes<4.0.0,>=3.2.0 in /home/ec2-user/anaconda3/envs/pytorch_p39/lib/python3.9/site-packages (from spacy) (3.3.0)\n",
      "Requirement already satisfied: preshed<3.1.0,>=3.0.2 in /home/ec2-user/anaconda3/envs/pytorch_p39/lib/python3.9/site-packages (from spacy) (3.0.8)\n",
      "Requirement already satisfied: setuptools in /home/ec2-user/anaconda3/envs/pytorch_p39/lib/python3.9/site-packages (from spacy) (65.6.3)\n",
      "Requirement already satisfied: tqdm<5.0.0,>=4.38.0 in /home/ec2-user/anaconda3/envs/pytorch_p39/lib/python3.9/site-packages (from spacy) (4.63.2)\n",
      "Requirement already satisfied: murmurhash<1.1.0,>=0.28.0 in /home/ec2-user/anaconda3/envs/pytorch_p39/lib/python3.9/site-packages (from spacy) (1.0.9)\n",
      "Requirement already satisfied: thinc<8.2.0,>=8.1.8 in /home/ec2-user/anaconda3/envs/pytorch_p39/lib/python3.9/site-packages (from spacy) (8.1.9)\n",
      "Requirement already satisfied: pydantic!=1.8,!=1.8.1,<1.11.0,>=1.7.4 in /home/ec2-user/anaconda3/envs/pytorch_p39/lib/python3.9/site-packages (from spacy) (1.10.4)\n",
      "Requirement already satisfied: numpy>=1.15.0 in /home/ec2-user/anaconda3/envs/pytorch_p39/lib/python3.9/site-packages (from spacy) (1.23.5)\n",
      "Requirement already satisfied: requests<3.0.0,>=2.13.0 in /home/ec2-user/anaconda3/envs/pytorch_p39/lib/python3.9/site-packages (from spacy) (2.28.1)\n",
      "Requirement already satisfied: packaging>=20.0 in /home/ec2-user/anaconda3/envs/pytorch_p39/lib/python3.9/site-packages (from spacy) (21.3)\n",
      "Requirement already satisfied: spacy-legacy<3.1.0,>=3.0.11 in /home/ec2-user/anaconda3/envs/pytorch_p39/lib/python3.9/site-packages (from spacy) (3.0.11)\n",
      "Requirement already satisfied: catalogue<2.1.0,>=2.0.6 in /home/ec2-user/anaconda3/envs/pytorch_p39/lib/python3.9/site-packages (from spacy) (2.0.8)\n",
      "Requirement already satisfied: spacy-loggers<2.0.0,>=1.0.0 in /home/ec2-user/anaconda3/envs/pytorch_p39/lib/python3.9/site-packages (from spacy) (1.0.4)\n",
      "Requirement already satisfied: pyparsing!=3.0.5,>=2.0.2 in /home/ec2-user/anaconda3/envs/pytorch_p39/lib/python3.9/site-packages (from packaging>=20.0->spacy) (3.0.9)\n",
      "Requirement already satisfied: typing-extensions>=4.2.0 in /home/ec2-user/anaconda3/envs/pytorch_p39/lib/python3.9/site-packages (from pydantic!=1.8,!=1.8.1,<1.11.0,>=1.7.4->spacy) (4.4.0)\n",
      "Requirement already satisfied: urllib3<1.27,>=1.21.1 in /home/ec2-user/anaconda3/envs/pytorch_p39/lib/python3.9/site-packages (from requests<3.0.0,>=2.13.0->spacy) (1.26.8)\n",
      "Requirement already satisfied: idna<4,>=2.5 in /home/ec2-user/anaconda3/envs/pytorch_p39/lib/python3.9/site-packages (from requests<3.0.0,>=2.13.0->spacy) (3.4)\n",
      "Requirement already satisfied: charset-normalizer<3,>=2 in /home/ec2-user/anaconda3/envs/pytorch_p39/lib/python3.9/site-packages (from requests<3.0.0,>=2.13.0->spacy) (2.1.1)\n",
      "Requirement already satisfied: certifi>=2017.4.17 in /home/ec2-user/anaconda3/envs/pytorch_p39/lib/python3.9/site-packages (from requests<3.0.0,>=2.13.0->spacy) (2022.12.7)\n",
      "Requirement already satisfied: blis<0.8.0,>=0.7.8 in /home/ec2-user/anaconda3/envs/pytorch_p39/lib/python3.9/site-packages (from thinc<8.2.0,>=8.1.8->spacy) (0.7.9)\n",
      "Requirement already satisfied: confection<1.0.0,>=0.0.1 in /home/ec2-user/anaconda3/envs/pytorch_p39/lib/python3.9/site-packages (from thinc<8.2.0,>=8.1.8->spacy) (0.0.3)\n",
      "Requirement already satisfied: click<9.0.0,>=7.1.1 in /home/ec2-user/anaconda3/envs/pytorch_p39/lib/python3.9/site-packages (from typer<0.8.0,>=0.3.0->spacy) (8.1.3)\n",
      "Requirement already satisfied: MarkupSafe>=2.0 in /home/ec2-user/anaconda3/envs/pytorch_p39/lib/python3.9/site-packages (from jinja2->spacy) (2.1.1)\n",
      "We're using: cuda\n"
     ]
    }
   ],
   "source": [
    "import pandas as pd\n",
    "import numpy as np\n",
    "import matplotlib.pyplot as plt\n",
    "import torch\n",
    "import torch.nn as nn\n",
    "import torch.nn.functional as F\n",
    "import torchtext\n",
    "import time\n",
    "import random\n",
    "import torch.optim as optim\n",
    "from torchvision import transforms\n",
    "from torchvision.transforms import ToTensor\n",
    "from torch.utils.data import Dataset, DataLoader, TensorDataset\n",
    "import nltk\n",
    "import os\n",
    "\n",
    "!pip install -U spacy\n",
    "\n",
    "\n",
    "# Switch PyTorch to GPU compute\n",
    "device = torch.device(\"cuda\" if torch.cuda.is_available() else \"cpu\")\n",
    "# device=torch.device(\"cpu\")\n",
    "print(\"We're using:\", device)"
   ]
  },
  {
   "cell_type": "markdown",
   "metadata": {
    "id": "HhiJiLzZRqUm"
   },
   "source": [
    "Settings "
   ]
  },
  {
   "cell_type": "code",
   "execution_count": 2,
   "metadata": {
    "id": "kcr3zhz-Tm43"
   },
   "outputs": [],
   "source": [
    "RANDOM_SEED = 123\n",
    "torch.manual_seed(RANDOM_SEED)\n",
    "\n",
    "VOCABULARY_SIZE = 20000\n",
    "LEARNING_RATE = .005  \n",
    "BATCH_SIZE = 128\n",
    "NUM_EPOCHS = 15\n",
    "\n",
    "EMBEDDING_DIM = 128\n",
    "HIDDEN_DIM = 256\n",
    "NUM_CLASSES = 2"
   ]
  },
  {
   "cell_type": "markdown",
   "metadata": {
    "id": "FqZlj1Y7pFma"
   },
   "source": [
    "For the data, you can click download at\n",
    "https://www.kaggle.com/datasets/snap/amazon-fine-food-reviews\n",
    "\n",
    "You can choose to store the data in your google drive and mount your drive for accessing them from the following cell."
   ]
  },
  {
   "cell_type": "code",
   "execution_count": 3,
   "metadata": {
    "id": "ElFxwLInpMrc"
   },
   "outputs": [],
   "source": [
    "# from google.colab import drive\n",
    "# drive.mount('/content/drive')"
   ]
  },
  {
   "cell_type": "markdown",
   "metadata": {
    "id": "c2QxRycOp74a"
   },
   "source": [
    "Or you can download it by the following cell:"
   ]
  },
  {
   "cell_type": "code",
   "execution_count": 4,
   "metadata": {
    "colab": {
     "base_uri": "https://localhost:8080/"
    },
    "id": "xPA3GZlwp7TP",
    "outputId": "94a42507-6764-42bd-c68f-19e19252b035"
   },
   "outputs": [
    {
     "name": "stdout",
     "output_type": "stream",
     "text": [
      "Looking in indexes: https://pypi.org/simple, https://pip.repos.neuron.amazonaws.com\n",
      "Requirement already satisfied: gdown in /home/ec2-user/anaconda3/envs/pytorch_p39/lib/python3.9/site-packages (4.7.1)\n",
      "Requirement already satisfied: filelock in /home/ec2-user/anaconda3/envs/pytorch_p39/lib/python3.9/site-packages (from gdown) (3.6.0)\n",
      "Requirement already satisfied: tqdm in /home/ec2-user/anaconda3/envs/pytorch_p39/lib/python3.9/site-packages (from gdown) (4.63.2)\n",
      "Requirement already satisfied: beautifulsoup4 in /home/ec2-user/anaconda3/envs/pytorch_p39/lib/python3.9/site-packages (from gdown) (4.11.1)\n",
      "Requirement already satisfied: six in /home/ec2-user/anaconda3/envs/pytorch_p39/lib/python3.9/site-packages (from gdown) (1.16.0)\n",
      "Requirement already satisfied: requests[socks] in /home/ec2-user/anaconda3/envs/pytorch_p39/lib/python3.9/site-packages (from gdown) (2.28.1)\n",
      "Requirement already satisfied: soupsieve>1.2 in /home/ec2-user/anaconda3/envs/pytorch_p39/lib/python3.9/site-packages (from beautifulsoup4->gdown) (2.3.2.post1)\n",
      "Requirement already satisfied: idna<4,>=2.5 in /home/ec2-user/anaconda3/envs/pytorch_p39/lib/python3.9/site-packages (from requests[socks]->gdown) (3.4)\n",
      "Requirement already satisfied: certifi>=2017.4.17 in /home/ec2-user/anaconda3/envs/pytorch_p39/lib/python3.9/site-packages (from requests[socks]->gdown) (2022.12.7)\n",
      "Requirement already satisfied: urllib3<1.27,>=1.21.1 in /home/ec2-user/anaconda3/envs/pytorch_p39/lib/python3.9/site-packages (from requests[socks]->gdown) (1.26.8)\n",
      "Requirement already satisfied: charset-normalizer<3,>=2 in /home/ec2-user/anaconda3/envs/pytorch_p39/lib/python3.9/site-packages (from requests[socks]->gdown) (2.1.1)\n",
      "Requirement already satisfied: PySocks!=1.5.7,>=1.5.6 in /home/ec2-user/anaconda3/envs/pytorch_p39/lib/python3.9/site-packages (from requests[socks]->gdown) (1.7.1)\n"
     ]
    }
   ],
   "source": [
    "!pip install --upgrade --no-cache-dir gdown\n",
    "if not os.path.exists(\"Reviews.csv\"):\n",
    "    !gdown 1_kLSwiRYtiXF7h9V1FlTqTapOHiYU5Mk"
   ]
  },
  {
   "cell_type": "code",
   "execution_count": 5,
   "metadata": {
    "colab": {
     "base_uri": "https://localhost:8080/"
    },
    "id": "S8fuLnUHpdGB",
    "outputId": "3f5abe79-cb8a-4eac-bc7f-0e00f79bc9c0"
   },
   "outputs": [
    {
     "name": "stdout",
     "output_type": "stream",
     "text": [
      "(568454, 10)\n",
      "(145000, 10)\n",
      "0         Product arrived labeled as Jumbo Salted Peanut...\n",
      "1         My cats have been happily eating Felidae Plati...\n",
      "2         The candy is just red , No flavor . Just  plan...\n",
      "3         This oatmeal is not good. Its mushy, soft, I d...\n",
      "4         Arrived in 6 days and were so stale i could no...\n",
      "                                ...                        \n",
      "144995    Just add water and Shazaam it's Peanut Butter ...\n",
      "144996    This is by far the best choice for a low fat o...\n",
      "144997    Peanut butter was one of the things I reluctan...\n",
      "144998    i'm watching my calorie intake - and after rea...\n",
      "144999    I love PB2 - I add it to chocolate protein smo...\n",
      "Name: Reviews, Length: 145000, dtype: object\n",
      "0         1\n",
      "1         1\n",
      "2         1\n",
      "3         1\n",
      "4         1\n",
      "         ..\n",
      "144995    5\n",
      "144996    5\n",
      "144997    5\n",
      "144998    5\n",
      "144999    5\n",
      "Name: Labels, Length: 145000, dtype: int64\n"
     ]
    }
   ],
   "source": [
    "# Remeber to change the path here for the corresponding files you need\n",
    "df = pd.read_csv('Reviews.csv')\n",
    "print(df.shape)\n",
    "\n",
    "entries = 29000\n",
    "\n",
    "df5 = df[df[\"Score\"] == 5]\n",
    "df5 = df5.head(entries)\n",
    "df4 = df[df[\"Score\"] == 4]\n",
    "df4 = df4.head(entries)\n",
    "df3 = df[df[\"Score\"] == 3]\n",
    "df3 = df3.head(entries)\n",
    "df2 = df[df[\"Score\"] == 2]\n",
    "df2 = df2.head(entries)\n",
    "df1 = df[df[\"Score\"] == 1]\n",
    "df1 = df1.head(entries)\n",
    "\n",
    "df = pd.concat([df1, df2, df3, df4, df5])\n",
    "\n",
    "print(df.shape)\n",
    "\n",
    "\n",
    "df = df[['Score', 'Text']]\n",
    "df.columns = ['Labels', 'Reviews']\n",
    "\n",
    "df.to_csv('review_data.csv', index=None)\n",
    "\n",
    "df = pd.read_csv('review_data.csv')\n",
    "df.head()\n",
    "\n",
    "\n",
    "\n",
    "reviews = df['Reviews']\n",
    "labels = df['Labels']\n",
    "\n",
    "print(reviews)\n",
    "print(labels)\n"
   ]
  },
  {
   "cell_type": "code",
   "execution_count": 6,
   "metadata": {
    "colab": {
     "base_uri": "https://localhost:8080/"
    },
    "id": "QfPEr9bfRfbd",
    "outputId": "ef052cc1-62aa-4688-d610-208ffc3ba71a"
   },
   "outputs": [
    {
     "name": "stderr",
     "output_type": "stream",
     "text": [
      "[nltk_data] Downloading package punkt to /home/ec2-user/nltk_data...\n",
      "[nltk_data]   Package punkt is already up-to-date!\n",
      "[nltk_data] Downloading package stopwords to\n",
      "[nltk_data]     /home/ec2-user/nltk_data...\n",
      "[nltk_data]   Package stopwords is already up-to-date!\n"
     ]
    },
    {
     "data": {
      "text/plain": [
       "True"
      ]
     },
     "execution_count": 6,
     "metadata": {},
     "output_type": "execute_result"
    }
   ],
   "source": [
    "# import libraries for preprocessing\n",
    "from nltk.tokenize import word_tokenize\n",
    "from nltk.corpus import stopwords\n",
    "from nltk.stem.wordnet import WordNetLemmatizer\n",
    "from nltk.stem.porter import PorterStemmer\n",
    "from sklearn.preprocessing import MultiLabelBinarizer\n",
    "from string import punctuation\n",
    "from string import digits\n",
    "from collections import Counter\n",
    "nltk.download('punkt')\n",
    "nltk.download('stopwords')"
   ]
  },
  {
   "cell_type": "code",
   "execution_count": 31,
   "metadata": {},
   "outputs": [],
   "source": [
    "# function to remove stop words\n",
    "eng_stopwords = stopwords.words('english') \n",
    "def filter_words(alist):\n",
    "  ret_l = []\n",
    "  for w in alist:\n",
    "    for el in w:\n",
    "        if el in punctuation:\n",
    "          w = w.replace(el,\"\")\n",
    "    if w.lower() not in eng_stopwords and w not in punctuation and w != '...' and w !='br' and w not in digits and w != 'nt':\n",
    "      ret_l.append(w.lower())\n",
    "  return ret_l"
   ]
  },
  {
   "cell_type": "code",
   "execution_count": 7,
   "metadata": {
    "id": "c2APpKzR6AD5"
   },
   "outputs": [],
   "source": [
    "# preprocess the data\n",
    "\n",
    "# below 2 is 0 (negative) 3 and above is positive\n",
    "# labels = np.rint(labels / 5)\n",
    "\n",
    "all_reviews=list()\n",
    "for text in reviews:\n",
    "  text = text.lower()\n",
    "  text = \"\".join([ch for ch in text if ch not in punctuation])\n",
    "  all_reviews.append(text)\n",
    "all_text = \" \".join(all_reviews)\n",
    "all_words = all_text.split()"
   ]
  },
  {
   "cell_type": "code",
   "execution_count": 8,
   "metadata": {
    "colab": {
     "base_uri": "https://localhost:8080/"
    },
    "id": "JlQJTwvB7VTC",
    "outputId": "6bdab4c5-60a9-4452-d3db-fe3ac9e82da8"
   },
   "outputs": [
    {
     "name": "stdout",
     "output_type": "stream",
     "text": [
      "[('the', 561378), ('i', 429229), ('a', 332025), ('and', 327629), ('to', 284875), ('it', 261597), ('of', 234053), ('is', 195099), ('this', 185538), ('in', 148103)]\n"
     ]
    }
   ],
   "source": [
    "from collections import Counter \n",
    "# Count all the words using Counter Method\n",
    "count_words = Counter(all_words)\n",
    "total_words=len(all_words)\n",
    "sorted_words=count_words.most_common(total_words)\n",
    "print(sorted_words[:10])"
   ]
  },
  {
   "cell_type": "code",
   "execution_count": 9,
   "metadata": {
    "colab": {
     "base_uri": "https://localhost:8080/"
    },
    "id": "C-jNhYeG7Wp4",
    "outputId": "9aacd9c7-688a-4b2a-aa39-039c759f006d"
   },
   "outputs": [],
   "source": [
    "vocab_to_int={w:i+1 for i,(w,c) in enumerate(sorted_words)}\n",
    "# print(vocab_to_int)\n"
   ]
  },
  {
   "cell_type": "code",
   "execution_count": 10,
   "metadata": {
    "id": "VIMQY0jz7aa5"
   },
   "outputs": [],
   "source": [
    "# transform reviews into lists of numbers\n",
    "e_rev = []\n",
    "for review in all_reviews:\n",
    "  e = []\n",
    "  for word in review:\n",
    "    if word not in vocab_to_int.keys():\n",
    "      e.append(0)\n",
    "    else:\n",
    "      e.append(vocab_to_int[word])\n",
    "  e_rev.append(e)"
   ]
  },
  {
   "cell_type": "code",
   "execution_count": 11,
   "metadata": {
    "id": "T8ZEv7qJ8h7U"
   },
   "outputs": [],
   "source": [
    "# make the feature array and make the inputs all the same length\n",
    "length = 300\n",
    "feats=np.zeros((len(e_rev), length), dtype=int)\n",
    "\n",
    "for i, rev in enumerate(e_rev):\n",
    "  if len(rev) > length:\n",
    "    feats[i,:] = np.array(rev[:length])\n",
    "  else:\n",
    "    for j in range(len(rev)):\n",
    "      feats[i,j] = rev[j]"
   ]
  },
  {
   "cell_type": "code",
   "execution_count": 12,
   "metadata": {
    "id": "KwJnBmTl89yV"
   },
   "outputs": [],
   "source": [
    "# transform into tensor for pytorch\n",
    "data = np.column_stack((feats, labels))\n",
    "data = data.astype(float)\n",
    "transform = transforms.Compose([transforms.ToTensor()])\n",
    "\n",
    "data = transform(data)\n",
    "data = torch.squeeze(data, dim=0)"
   ]
  },
  {
   "cell_type": "code",
   "execution_count": 13,
   "metadata": {
    "colab": {
     "base_uri": "https://localhost:8080/"
    },
    "id": "dC8britr9fZX",
    "outputId": "317a17ce-27cd-4f27-b1cc-06777b9c8680"
   },
   "outputs": [
    {
     "name": "stdout",
     "output_type": "stream",
     "text": [
      "torch.Size([145000, 300])\n",
      "torch.Size([116000, 300]) torch.Size([14500, 5]) torch.Size([14500, 300])\n"
     ]
    }
   ],
   "source": [
    "# Train/Validation/Test split\n",
    "\n",
    "from sklearn.model_selection import train_test_split\n",
    "\n",
    "feats = data[:, :-1]\n",
    "labels = data[:, -1]\n",
    "labels = F.one_hot(labels.to(torch.int64), num_classes=6)\n",
    "labels = labels[:, 1:]\n",
    "\n",
    "print(feats.shape)\n",
    "\n",
    "train_x, test_x, train_y, test_y = train_test_split(feats, labels, test_size=0.20, random_state=42, shuffle=True)\n",
    "valid_x, test_x, valid_y, test_y = train_test_split(test_x, test_y, test_size=0.50, random_state=42, shuffle=True)\n",
    "\n",
    "\n",
    "# train_x=feats[:int(0.8*len(feats))]\n",
    "# train_y=labels[:int(0.8*len(feats))]\n",
    "# valid_x=feats[int(0.8*len(feats)):int(0.9*len(feats))]\n",
    "# valid_y=labels[int(0.8*len(feats)):int(0.9*len(feats))]\n",
    "# test_x=feats[int(0.9*len(feats)):]\n",
    "# test_y=labels[int(0.9*len(feats)):]\n",
    "\n",
    "\n",
    "\n",
    "print(train_x.shape, valid_y.shape, test_x.shape)"
   ]
  },
  {
   "cell_type": "code",
   "execution_count": 14,
   "metadata": {
    "colab": {
     "base_uri": "https://localhost:8080/"
    },
    "id": "y_APEm-Y9mIe",
    "outputId": "cc688970-5514-4938-ad31-5697fc6b26b8"
   },
   "outputs": [
    {
     "name": "stderr",
     "output_type": "stream",
     "text": [
      "/tmp/ipykernel_32676/3758567898.py:2: UserWarning: To copy construct from a tensor, it is recommended to use sourceTensor.clone().detach() or sourceTensor.clone().detach().requires_grad_(True), rather than torch.tensor(sourceTensor).\n",
      "  valid_dataset = TensorDataset(torch.tensor(valid_x), torch.tensor(valid_y))\n"
     ]
    }
   ],
   "source": [
    "train_dataset = TensorDataset(torch.LongTensor(train_x.numpy()), torch.LongTensor(train_y.numpy()))\n",
    "valid_dataset = TensorDataset(torch.tensor(valid_x), torch.tensor(valid_y))\n",
    "test_dataset = TensorDataset(torch.LongTensor(test_x.numpy()), torch.LongTensor(test_y.numpy()))\n",
    "\n",
    "batch_size = 500\n",
    "\n",
    "train_dataloader = DataLoader(train_dataset, batch_size=batch_size, shuffle=True)\n",
    "val_dataloader = DataLoader(valid_dataset, batch_size=batch_size, shuffle=True)\n",
    "test_dataloader = DataLoader(test_dataset, batch_size=batch_size, shuffle=False)\n"
   ]
  },
  {
   "cell_type": "code",
   "execution_count": 48,
   "metadata": {
    "id": "f56K3SkG94B-"
   },
   "outputs": [],
   "source": [
    "#Recurrent Neural Network class\n",
    "import torch.nn as nn\n",
    "\n",
    "class RNN(nn.Module):\n",
    "  def __init__(self, vocab_size, output_size, embedding_dim, hidden_dim, n_layers, drop_prob):\n",
    "    super().__init__()\n",
    "    self.output_size=output_size\n",
    "    self.n_layers=n_layers\n",
    "    self.hidden_dim=hidden_dim\n",
    "    \n",
    "    #Embedding and LSTM layers\n",
    "    self.embedding=nn.Embedding(vocab_size, embedding_dim)\n",
    "    self.lstm=nn.LSTM(embedding_dim, hidden_dim, n_layers, dropout=drop_prob, batch_first=True)\n",
    "    \n",
    "    #dropout layer\n",
    "    self.dropout=nn.Dropout(0.5)\n",
    "    \n",
    "    #Linear and sigmoid layer\n",
    "    self.fc1=nn.Linear(hidden_dim, 1024)\n",
    "    self.fc2=nn.Linear(1024, 256)\n",
    "    self.fc3=nn.Linear(256,128)\n",
    "    self.fc4=nn.Linear(128,64)\n",
    "    self.fc5=nn.Linear(64,16)\n",
    "    self.fc6=nn.Linear(16 ,output_size)\n",
    "    self.sigmoid=nn.Sigmoid() # for binary\n",
    "    self.relu = nn.ReLU()     # for multi-class\n",
    "\n",
    "    \n",
    "  def forward(self, x, hidden):\n",
    "      \"\"\"\n",
    "      Perform a forward pass of our model on some input and hidden state.\n",
    "      \"\"\"\n",
    "\n",
    "      batch_size = x.size()[0]\n",
    "      \n",
    "      #Embadding and LSTM output\n",
    "      x = x.long()\n",
    "\n",
    "      embedd=self.embedding(x)\n",
    "      # x = torch.transpose(embedd, 2, 1)\n",
    "      # print(embedd.size())\n",
    "\n",
    "      # embedd = torch.transpose(embedd, 2, 1)\n",
    "      \n",
    "      # print(embedd.size())\n",
    "      lstm_out, hidden=self.lstm(embedd, hidden)\n",
    "      \n",
    "      #stack up the lstm output\n",
    "      lstm_out=lstm_out.contiguous().view(-1, self.hidden_dim)\n",
    "\n",
    "      # print(lstm_out.size())\n",
    "      \n",
    "      #dropout and fully connected layers\n",
    "      out=self.dropout(lstm_out)\n",
    "      out=self.fc1(out)\n",
    "      out=self.dropout(out)\n",
    "      out=self.fc2(out)\n",
    "      out=self.dropout(out)\n",
    "      out=self.fc3(out)\n",
    "      out=self.fc4(out)\n",
    "      out=self.fc5(out)\n",
    "      out=self.fc6(out)\n",
    "      out = self.relu(out)\n",
    "      # print(out.size())\n",
    "      out = out.view(batch_size, -1)\n",
    "      n = embedding_dim\n",
    "      out = torch.mean(out.view(-1, n), axis=1)\n",
    "      out = out.view(batch_size, output_size)\n",
    "      # sigmoid for binary\n",
    "      # # print(out.size())\n",
    "      # sig_out=self.sigmoid(out)\n",
    "      # # print(sig_out.size())\n",
    "      # sig_out=sig_out.view(batch_size, -1)\n",
    "      # out=sig_out[:, -1]\n",
    "\n",
    "      return out, hidden\n",
    "\n",
    "  def init_hidden(self, batch_size):\n",
    "          \"\"\"Initialize Hidden STATE\"\"\"\n",
    "          # Create two new tensors with sizes n_layers x batch_size x hidden_dim,\n",
    "          # initialized to zero, for hidden state and cell state of LSTM\n",
    "          weight = next(self.parameters()).data\n",
    "          \n",
    "          if (train_on_gpu):\n",
    "              hidden = (weight.new(self.n_layers, batch_size, self.hidden_dim).zero_().cuda(),\n",
    "                    weight.new(self.n_layers, batch_size, self.hidden_dim).zero_().cuda())\n",
    "          else:\n",
    "              hidden = (weight.new(self.n_layers, batch_size, self.hidden_dim).zero_(),\n",
    "                        weight.new(self.n_layers, batch_size, self.hidden_dim).zero_())\n",
    "          \n",
    "          return hidden\n"
   ]
  },
  {
   "cell_type": "code",
   "execution_count": 16,
   "metadata": {
    "colab": {
     "base_uri": "https://localhost:8080/"
    },
    "id": "n3scmVHVBKEe",
    "outputId": "0764078c-42d8-4552-b550-2120ee1e80d5"
   },
   "outputs": [
    {
     "name": "stdout",
     "output_type": "stream",
     "text": [
      "RNN(\n",
      "  (embedding): Embedding(115791, 300)\n",
      "  (lstm): LSTM(300, 350, num_layers=3, batch_first=True, dropout=0.5)\n",
      "  (dropout): Dropout(p=0.5, inplace=False)\n",
      "  (fc1): Linear(in_features=350, out_features=1024, bias=True)\n",
      "  (fc2): Linear(in_features=1024, out_features=256, bias=True)\n",
      "  (fc3): Linear(in_features=256, out_features=128, bias=True)\n",
      "  (fc4): Linear(in_features=128, out_features=64, bias=True)\n",
      "  (fc5): Linear(in_features=64, out_features=16, bias=True)\n",
      "  (fc6): Linear(in_features=16, out_features=5, bias=True)\n",
      "  (sigmoid): Sigmoid()\n",
      "  (relu): ReLU()\n",
      ")\n"
     ]
    }
   ],
   "source": [
    "# Instantiate the model w/ hyperparams\n",
    "vocab_size = len(vocab_to_int)+1 # +1 for the 0 padding\n",
    "output_size=5\n",
    "embedding_dim=300\n",
    "hidden_dim=350\n",
    "n_layers=3\n",
    "drop_prob=0.5\n",
    "\n",
    "net = RNN(vocab_size, output_size, embedding_dim, hidden_dim, n_layers, drop_prob)\n",
    "print(net)"
   ]
  },
  {
   "cell_type": "code",
   "execution_count": 24,
   "metadata": {
    "colab": {
     "base_uri": "https://localhost:8080/"
    },
    "id": "K9VR-hYTBPxf",
    "outputId": "822e029d-234c-45a3-96f5-d5d3116e1b1f"
   },
   "outputs": [
    {
     "name": "stdout",
     "output_type": "stream",
     "text": [
      "Epoch: 1/10... Step: 100... Loss: 1.598894... Val Loss: 1.605955\n",
      "Epoch: 1/10... Step: 200... Loss: 1.581569... Val Loss: 1.587977\n",
      "Epoch: 2/10... Step: 300... Loss: 1.558272... Val Loss: 1.566692\n",
      "Epoch: 2/10... Step: 400... Loss: 1.554461... Val Loss: 1.524844\n",
      "Epoch: 3/10... Step: 500... Loss: 1.499059... Val Loss: 1.498675\n",
      "Epoch: 3/10... Step: 600... Loss: 1.472520... Val Loss: 1.502849\n",
      "Epoch: 4/10... Step: 700... Loss: 1.504435... Val Loss: 1.479785\n",
      "Epoch: 4/10... Step: 800... Loss: 1.414644... Val Loss: 1.469518\n",
      "Epoch: 4/10... Step: 900... Loss: 1.415329... Val Loss: 1.452562\n",
      "Epoch: 5/10... Step: 1000... Loss: 1.439445... Val Loss: 1.450790\n",
      "Epoch: 5/10... Step: 1100... Loss: 1.481741... Val Loss: 1.453094\n",
      "Epoch: 6/10... Step: 1200... Loss: 1.391434... Val Loss: 1.431868\n",
      "Epoch: 6/10... Step: 1300... Loss: 1.395747... Val Loss: 1.417827\n",
      "Epoch: 7/10... Step: 1400... Loss: 1.371210... Val Loss: 1.417493\n",
      "Epoch: 7/10... Step: 1500... Loss: 1.416146... Val Loss: 1.423844\n",
      "Epoch: 7/10... Step: 1600... Loss: 1.390544... Val Loss: 1.404386\n",
      "Epoch: 8/10... Step: 1700... Loss: 1.341292... Val Loss: 1.384375\n",
      "Epoch: 8/10... Step: 1800... Loss: 1.366513... Val Loss: 1.389240\n",
      "Epoch: 9/10... Step: 1900... Loss: 1.302520... Val Loss: 1.396340\n",
      "Epoch: 9/10... Step: 2000... Loss: 1.397439... Val Loss: 1.369293\n",
      "Epoch: 10/10... Step: 2100... Loss: 1.269705... Val Loss: 1.396781\n",
      "Epoch: 10/10... Step: 2200... Loss: 1.324568... Val Loss: 1.363110\n",
      "Epoch: 10/10... Step: 2300... Loss: 1.366511... Val Loss: 1.360381\n"
     ]
    }
   ],
   "source": [
    "# loss and optimization functions\n",
    "lr=0.001\n",
    "\n",
    "criterion = nn.CrossEntropyLoss()\n",
    "optimizer = torch.optim.Adam(net.parameters(), lr=lr)\n",
    "\n",
    "# check if CUDA is available\n",
    "train_on_gpu = torch.cuda.is_available()\n",
    "# train_on_gpu = False\n",
    "\n",
    "# training params\n",
    "\n",
    "epochs = 10\n",
    "\n",
    "counter = 0\n",
    "print_every = 100\n",
    "clip=5 # gradient clipping\n",
    "\n",
    "# move model to GPU, if available\n",
    "if(train_on_gpu):\n",
    "    net.cuda()\n",
    "\n",
    "net.train()\n",
    "# train for some number of epochs\n",
    "for e in range(epochs):\n",
    "    # initialize hidden state\n",
    "    h = net.init_hidden(batch_size)\n",
    "\n",
    "    # batch loop\n",
    "    for inputs, labels in train_dataloader:\n",
    "        counter += 1\n",
    "\n",
    "        if(train_on_gpu):\n",
    "            inputs=inputs.cuda()\n",
    "            labels=labels.cuda()\n",
    "        # Creating new variables for the hidden state, otherwise\n",
    "        # we'd backprop through the entire training history\n",
    "        h = tuple([each.data for each in h])\n",
    "\n",
    "        # zero accumulated gradients\n",
    "        net.zero_grad()\n",
    "\n",
    "        # get the output from the model\n",
    "        output, h = net(inputs, h)\n",
    "\n",
    "        # calculate the loss and perform backprop\n",
    "        # print(labels.float().size())\n",
    "        # loss = criterion(output.squeeze(), labels.float().squeeze()) # for binary\n",
    "        # print(output)\n",
    "\n",
    "        loss = criterion(output.squeeze(), labels.float())\n",
    "        # print(output.squeeze())\n",
    "        loss.backward()\n",
    "        # `clip_grad_norm` helps prevent the exploding gradient problem in RNNs / LSTMs.\n",
    "        nn.utils.clip_grad_norm_(net.parameters(), clip)\n",
    "        optimizer.step()\n",
    "\n",
    "        # loss stats\n",
    "        if counter % print_every == 0:\n",
    "            # Get validation loss\n",
    "            val_h = net.init_hidden(batch_size)\n",
    "            val_losses = []\n",
    "            net.eval()\n",
    "            for inputs, labels in val_dataloader:\n",
    "\n",
    "                # Creating new variables for the hidden state, otherwise\n",
    "                # we'd backprop through the entire training history\n",
    "                val_h = tuple([each.data for each in val_h])\n",
    "\n",
    "                if(train_on_gpu):  \n",
    "                    inputs, labels = inputs.cuda(), labels.cuda() \n",
    "                # print(type(inputs)) \n",
    "                # print(type(val_h))\n",
    "                output, val_h = net(inputs, val_h)\n",
    "                # val_loss = criterion(output.squeeze(), labels.float().squeeze()) # for binary\n",
    "                val_loss = criterion(output.squeeze(), labels.float())\n",
    "\n",
    "\n",
    "                val_losses.append(val_loss.item())\n",
    "\n",
    "            net.train()\n",
    "            print(\"Epoch: {}/{}...\".format(e+1, epochs),\n",
    "                  \"Step: {}...\".format(counter),\n",
    "                  \"Loss: {:.6f}...\".format(loss.item()),\n",
    "                  \"Val Loss: {:.6f}\".format(np.mean(val_losses)))"
   ]
  },
  {
   "cell_type": "code",
   "execution_count": 27,
   "metadata": {},
   "outputs": [],
   "source": [
    "torch.save(net, './RNN_10_epochs.pt')"
   ]
  },
  {
   "cell_type": "code",
   "execution_count": 25,
   "metadata": {
    "id": "dllSBQIgUNRY"
   },
   "outputs": [
    {
     "name": "stdout",
     "output_type": "stream",
     "text": [
      "Test loss: 1.356\n",
      "[4. 4. 0. ... 0. 3. 0.]\n",
      "[3. 0. 0. ... 0. 2. 0.]\n",
      "444\n",
      "14500\n",
      "Test accuracy: 0.006\n"
     ]
    }
   ],
   "source": [
    "# loss and optimization functions\n",
    "lr=0.001\n",
    "\n",
    "criterion = nn.CrossEntropyLoss()\n",
    "optimizer = torch.optim.Adam(net.parameters(), lr=lr)\n",
    "\n",
    "test_losses = [] # track loss\n",
    "num_correct = 0\n",
    "test_predictions = np.array([])\n",
    "test_labels = np.array([])\n",
    "train_on_gpu = torch.cuda.is_available()\n",
    "# net = torch.load('./RNN_10_epochs.pt')\n",
    "\n",
    "\n",
    "# init hidden state\n",
    "h = net.init_hidden(batch_size)\n",
    "\n",
    "net.eval()\n",
    "# iterate over test data\n",
    "for inputs, labels in test_dataloader:\n",
    "\n",
    "    # Creating new variables for the hidden state, otherwise\n",
    "    # we'd backprop through the entire training history\n",
    "    h = tuple([each.data for each in h])\n",
    "\n",
    "    if(train_on_gpu):\n",
    "        inputs, labels = inputs.cuda(), labels.cuda()\n",
    "\n",
    "\n",
    "    output, h = net(inputs, h)\n",
    "\n",
    "    # calculate loss\n",
    "    # test_loss = criterion(output.squeeze(), labels.float().squeeze()) # for binary\n",
    "    test_loss = criterion(output.squeeze(), labels.float())\n",
    "\n",
    "    test_losses.append(test_loss.item())\n",
    "\n",
    "    # convert output probabilities to predicted class (0 or 1)\n",
    "    # pred = torch.round(output.squeeze())  # rounds to the nearest integer for binary\n",
    "\n",
    "    # compare predictions to true label\n",
    "    correct_tensor = output.eq(labels.float().view_as(output))\n",
    "    correct = np.squeeze(correct_tensor.numpy()) if not train_on_gpu else np.squeeze(correct_tensor.cpu().numpy())\n",
    "    num_correct += np.sum(correct)\n",
    "\n",
    "    # store predictions for post-processing\n",
    "    predicted = torch.max(output, 1).indices\n",
    "    test_predictions = np.concatenate((test_predictions, predicted.detach().cpu().numpy()))\n",
    "    test_labels = np.concatenate((test_labels, (torch.max(labels,dim=1).indices).cpu().numpy()))\n",
    "\n",
    "\n",
    "# -- stats! -- ##\n",
    "# avg test loss\n",
    "print(\"Test loss: {:.3f}\".format(np.mean(test_losses)))\n",
    "\n",
    "# accuracy over all test data\n",
    "print(test_predictions)\n",
    "print(test_labels)\n",
    "print(num_correct)\n",
    "num_correct = num_correct / 5\n",
    "print(len(test_dataloader.dataset))\n",
    "test_acc = num_correct/len(test_dataloader.dataset)\n",
    "print(\"Test accuracy: {:.3f}\".format(test_acc))"
   ]
  },
  {
   "cell_type": "code",
   "execution_count": 26,
   "metadata": {
    "id": "fOKUEFu1gJrr",
    "tags": []
   },
   "outputs": [
    {
     "name": "stdout",
     "output_type": "stream",
     "text": [
      "Accuracy: 0.39\n",
      "Precision: 0.37\n",
      "Recall: 0.39\n",
      "F1 Score: 0.36\n"
     ]
    },
    {
     "data": {
      "image/png": "[encoded data removed]",
      "text/plain": [
       "<Figure size 400x400 with 2 Axes>"
      ]
     },
     "metadata": {},
     "output_type": "display_data"
    }
   ],
   "source": [
    "from sklearn import preprocessing\n",
    "from sklearn.metrics import accuracy_score, precision_score, recall_score, f1_score, confusion_matrix\n",
    "import seaborn as sns\n",
    "\n",
    "def eval(y_true, y_pred):\n",
    "  accuracy = accuracy_score(y_true, y_pred)\n",
    "  precision = precision_score(y_true, y_pred, average='weighted')\n",
    "  recall = recall_score(y_true, y_pred, average='weighted')\n",
    "  f1 = f1_score(y_true, y_pred, average='weighted')\n",
    "  cm = confusion_matrix(y_true, y_pred)\n",
    "\n",
    "  print(\"Accuracy: {:.2f}\".format(accuracy))\n",
    "  print(\"Precision: {:.2f}\".format(precision))\n",
    "  print(\"Recall: {:.2f}\".format(recall))\n",
    "  print(\"F1 Score: {:.2f}\".format(f1))\n",
    "\n",
    "  plt.figure(figsize=(4, 4))\n",
    "  sns.heatmap(cm, annot=True, fmt=\"d\", cmap=\"Blues\", square=True, linewidths=0.01, linecolor=\"gray\")\n",
    "  plt.xlabel(\"Predicted\")\n",
    "  plt.ylabel(\"True\")\n",
    "  plt.title(\"Confusion Matrix\")\n",
    "  plt.show()\n",
    "\n",
    "eval(test_labels, test_predictions)"
   ]
  },
  {
   "cell_type": "code",
   "execution_count": 23,
   "metadata": {},
   "outputs": [],
   "source": [
    "# torch.save(net, \"./RNN_10_epochs.pt\")"
   ]
  },
  {
   "cell_type": "markdown",
   "metadata": {},
   "source": [
    "**Dataset Shift**"
   ]
  },
  {
   "cell_type": "code",
   "execution_count": 32,
   "metadata": {},
   "outputs": [
    {
     "name": "stderr",
     "output_type": "stream",
     "text": [
      "/tmp/ipykernel_32676/2705420708.py:14: SettingWithCopyWarning: \n",
      "A value is trying to be set on a copy of a slice from a DataFrame.\n",
      "Try using .loc[row_indexer,col_indexer] = value instead\n",
      "\n",
      "See the caveats in the documentation: https://pandas.pydata.org/pandas-docs/stable/user_guide/indexing.html#returning-a-view-versus-a-copy\n",
      "  shift_df_train['tokenized_text'] = shift_df_train['Text'].apply(word_tokenize)\n",
      "/tmp/ipykernel_32676/2705420708.py:15: SettingWithCopyWarning: \n",
      "A value is trying to be set on a copy of a slice from a DataFrame.\n",
      "Try using .loc[row_indexer,col_indexer] = value instead\n",
      "\n",
      "See the caveats in the documentation: https://pandas.pydata.org/pandas-docs/stable/user_guide/indexing.html#returning-a-view-versus-a-copy\n",
      "  shift_df_train['filtered_text'] = shift_df_train['tokenized_text'].apply(filter_words)\n",
      "/tmp/ipykernel_32676/2705420708.py:17: SettingWithCopyWarning: \n",
      "A value is trying to be set on a copy of a slice from a DataFrame.\n",
      "Try using .loc[row_indexer,col_indexer] = value instead\n",
      "\n",
      "See the caveats in the documentation: https://pandas.pydata.org/pandas-docs/stable/user_guide/indexing.html#returning-a-view-versus-a-copy\n",
      "  shift_df_test['tokenized_text'] = shift_df_test['Text'].apply(word_tokenize)\n",
      "/tmp/ipykernel_32676/2705420708.py:18: SettingWithCopyWarning: \n",
      "A value is trying to be set on a copy of a slice from a DataFrame.\n",
      "Try using .loc[row_indexer,col_indexer] = value instead\n",
      "\n",
      "See the caveats in the documentation: https://pandas.pydata.org/pandas-docs/stable/user_guide/indexing.html#returning-a-view-versus-a-copy\n",
      "  shift_df_test['filtered_text'] = shift_df_test['tokenized_text'].apply(filter_words)\n"
     ]
    }
   ],
   "source": [
    "df = pd.read_csv('Reviews.csv')\n",
    "# print(df.shape)\n",
    "df = df\n",
    "# print(df.shape)\n",
    "\n",
    "df.head()\n",
    "\n",
    "# print(df['HelpfulnessNumerator'].unique())\n",
    "# print(df['HelpfulnessNumerator'].unique().shape)\n",
    "\n",
    "shift_df_train = df[df['HelpfulnessNumerator'] == 0]\n",
    "shift_df_test = df[df['HelpfulnessNumerator'] != 0]\n",
    "\n",
    "shift_df_train['tokenized_text'] = shift_df_train['Text'].apply(word_tokenize)\n",
    "shift_df_train['filtered_text'] = shift_df_train['tokenized_text'].apply(filter_words)\n",
    "shift_all_reviews = shift_df_train['filtered_text'].tolist()\n",
    "shift_df_test['tokenized_text'] = shift_df_test['Text'].apply(word_tokenize)\n",
    "shift_df_test['filtered_text'] = shift_df_test['tokenized_text'].apply(filter_words)\n",
    "shift_all_reviews_test = shift_df_test['filtered_text'].tolist()"
   ]
  },
  {
   "cell_type": "code",
   "execution_count": 33,
   "metadata": {},
   "outputs": [
    {
     "name": "stdout",
     "output_type": "stream",
     "text": [
      "for loops start\n",
      "finished first for loops\n",
      "finished second for loops\n"
     ]
    }
   ],
   "source": [
    "# transform reviews into lists of numbers\n",
    "\n",
    "print('for loops start')\n",
    "\n",
    "e_rev = []\n",
    "for review in shift_all_reviews:\n",
    "  e = []\n",
    "  for word in review:\n",
    "    if word not in vocab_to_int.keys():\n",
    "      e.append(0)\n",
    "    else:\n",
    "      e.append(vocab_to_int[word])\n",
    "  e_rev.append(e)\n",
    "\n",
    "# transform reviews into lists of numbers\n",
    "e_rev_test = []\n",
    "for review in shift_all_reviews_test:\n",
    "  e = []\n",
    "  for word in review:\n",
    "    if word not in vocab_to_int.keys():\n",
    "      e.append(0)\n",
    "    else:\n",
    "      e.append(vocab_to_int[word])\n",
    "  e_rev_test.append(e)\n",
    "\n",
    "print('finished first for loops')\n",
    "\n",
    "length = 300\n",
    "shift_feats = np.zeros((len(e_rev), length), dtype=int)\n",
    "shift_feats_test = np.zeros((len(e_rev_test), length), dtype=int)\n",
    "\n",
    "for i, rev in enumerate(e_rev):\n",
    "  if len(rev) > length:\n",
    "    shift_feats[i,:] = np.array(rev[:length])\n",
    "  else:\n",
    "    for j in range(len(rev)):\n",
    "      shift_feats[i,j] = rev[j]\n",
    "\n",
    "for i, rev in enumerate(e_rev_test):\n",
    "  if len(rev) > length:\n",
    "    shift_feats_test[i,:] = np.array(rev[:length])\n",
    "  else:\n",
    "    for j in range(len(rev)):\n",
    "      shift_feats_test[i,j] = rev[j]\n",
    "    \n",
    "print('finished second for loops')\n",
    "\n",
    "shift_labels = shift_df_train['Score'].array\n",
    "shift_labels_test = shift_df_test['Score'].array"
   ]
  },
  {
   "cell_type": "code",
   "execution_count": 34,
   "metadata": {},
   "outputs": [],
   "source": [
    "# correct for variable names and run for each dataset (helpful 0 vs nonzero)\n",
    "\n",
    "data = np.column_stack((shift_feats, shift_labels))\n",
    "data = data.astype(float)\n",
    "transform = transforms.Compose([transforms.ToTensor()])\n",
    "\n",
    "data = transform(data)\n",
    "data = torch.squeeze(data, dim=0)\n",
    "\n",
    "feats0 = data[:, :-1]\n",
    "labels = data[:, -1]\n",
    "labels = F.one_hot(labels.to(torch.int64), num_classes = 6)\n",
    "\n",
    "labels0 = labels[:, 1:]\n",
    "\n",
    "# correct for variable names and run for each dataset (helpful 0 vs nonzero)\n",
    "\n",
    "data = np.column_stack((shift_feats_test, shift_labels_test))\n",
    "data = data.astype(float)\n",
    "transform = transforms.Compose([transforms.ToTensor()])\n",
    "\n",
    "data = transform(data)\n",
    "data = torch.squeeze(data, dim=0)\n",
    "\n",
    "feats1 = data[:, :-1]\n",
    "labels = data[:, -1]\n",
    "labels = F.one_hot(labels.to(torch.int64), num_classes = 6)\n",
    "\n",
    "labels1 = labels[:, 1:]"
   ]
  },
  {
   "cell_type": "code",
   "execution_count": 44,
   "metadata": {
    "tags": []
   },
   "outputs": [
    {
     "name": "stdout",
     "output_type": "stream",
     "text": [
      "torch.Size([303826, 300])\n",
      "torch.Size([264628, 300])\n"
     ]
    }
   ],
   "source": [
    "# Dataset\n",
    "\n",
    "print(feats0.size())\n",
    "print(feats1.size())\n",
    "\n",
    "test_dataset_0 = TensorDataset(torch.LongTensor(feats0.numpy()), torch.LongTensor(labels0.numpy()))\n",
    "test_dataset_1 = TensorDataset(torch.LongTensor(feats1.numpy()), torch.LongTensor(labels1.numpy()))\n",
    "\n",
    "\n",
    "batch_size_0 = 2081\n",
    "batch_size_1 = 727\n",
    "\n",
    "test_dataloader_0 = DataLoader(test_dataset_0, batch_size=batch_size_0, shuffle=False)\n",
    "test_dataloader_1 = DataLoader(test_dataset_1, batch_size=batch_size_1, shuffle=False)"
   ]
  },
  {
   "cell_type": "code",
   "execution_count": 49,
   "metadata": {},
   "outputs": [
    {
     "ename": "RuntimeError",
     "evalue": "Expected hidden[0] size (3, 2081, 350), got [3, 500, 350]",
     "output_type": "error",
     "traceback": [
      "\u001b[0;31m---------------------------------------------------------------------------\u001b[0m",
      "\u001b[0;31mRuntimeError\u001b[0m                              Traceback (most recent call last)",
      "\u001b[0;32m/tmp/ipykernel_32676/1476447135.py\u001b[0m in \u001b[0;36m<cell line: 13>\u001b[0;34m()\u001b[0m\n\u001b[1;32m     21\u001b[0m \u001b[0;34m\u001b[0m\u001b[0m\n\u001b[1;32m     22\u001b[0m \u001b[0;34m\u001b[0m\u001b[0m\n\u001b[0;32m---> 23\u001b[0;31m     \u001b[0moutput\u001b[0m\u001b[0;34m,\u001b[0m \u001b[0mh\u001b[0m \u001b[0;34m=\u001b[0m \u001b[0mnet\u001b[0m\u001b[0;34m(\u001b[0m\u001b[0minputs\u001b[0m\u001b[0;34m,\u001b[0m \u001b[0mh\u001b[0m\u001b[0;34m)\u001b[0m\u001b[0;34m\u001b[0m\u001b[0;34m\u001b[0m\u001b[0m\n\u001b[0m\u001b[1;32m     24\u001b[0m \u001b[0;34m\u001b[0m\u001b[0m\n\u001b[1;32m     25\u001b[0m     \u001b[0;31m# calculate loss\u001b[0m\u001b[0;34m\u001b[0m\u001b[0;34m\u001b[0m\u001b[0m\n",
      "\u001b[0;32m~/anaconda3/envs/pytorch_p39/lib/python3.9/site-packages/torch/nn/modules/module.py\u001b[0m in \u001b[0;36m_call_impl\u001b[0;34m(self, *input, **kwargs)\u001b[0m\n\u001b[1;32m   1192\u001b[0m         if not (self._backward_hooks or self._forward_hooks or self._forward_pre_hooks or _global_backward_hooks\n\u001b[1;32m   1193\u001b[0m                 or _global_forward_hooks or _global_forward_pre_hooks):\n\u001b[0;32m-> 1194\u001b[0;31m             \u001b[0;32mreturn\u001b[0m \u001b[0mforward_call\u001b[0m\u001b[0;34m(\u001b[0m\u001b[0;34m*\u001b[0m\u001b[0minput\u001b[0m\u001b[0;34m,\u001b[0m \u001b[0;34m**\u001b[0m\u001b[0mkwargs\u001b[0m\u001b[0;34m)\u001b[0m\u001b[0;34m\u001b[0m\u001b[0;34m\u001b[0m\u001b[0m\n\u001b[0m\u001b[1;32m   1195\u001b[0m         \u001b[0;31m# Do not call functions when jit is used\u001b[0m\u001b[0;34m\u001b[0m\u001b[0;34m\u001b[0m\u001b[0m\n\u001b[1;32m   1196\u001b[0m         \u001b[0mfull_backward_hooks\u001b[0m\u001b[0;34m,\u001b[0m \u001b[0mnon_full_backward_hooks\u001b[0m \u001b[0;34m=\u001b[0m \u001b[0;34m[\u001b[0m\u001b[0;34m]\u001b[0m\u001b[0;34m,\u001b[0m \u001b[0;34m[\u001b[0m\u001b[0;34m]\u001b[0m\u001b[0;34m\u001b[0m\u001b[0;34m\u001b[0m\u001b[0m\n",
      "\u001b[0;32m/tmp/ipykernel_32676/3785984786.py\u001b[0m in \u001b[0;36mforward\u001b[0;34m(self, x, hidden)\u001b[0m\n\u001b[1;32m     44\u001b[0m \u001b[0;34m\u001b[0m\u001b[0m\n\u001b[1;32m     45\u001b[0m       \u001b[0;31m# print(embedd.size())\u001b[0m\u001b[0;34m\u001b[0m\u001b[0;34m\u001b[0m\u001b[0m\n\u001b[0;32m---> 46\u001b[0;31m       \u001b[0mlstm_out\u001b[0m\u001b[0;34m,\u001b[0m \u001b[0mhidden\u001b[0m\u001b[0;34m=\u001b[0m\u001b[0mself\u001b[0m\u001b[0;34m.\u001b[0m\u001b[0mlstm\u001b[0m\u001b[0;34m(\u001b[0m\u001b[0membedd\u001b[0m\u001b[0;34m,\u001b[0m \u001b[0mhidden\u001b[0m\u001b[0;34m)\u001b[0m\u001b[0;34m\u001b[0m\u001b[0;34m\u001b[0m\u001b[0m\n\u001b[0m\u001b[1;32m     47\u001b[0m \u001b[0;34m\u001b[0m\u001b[0m\n\u001b[1;32m     48\u001b[0m       \u001b[0;31m#stack up the lstm output\u001b[0m\u001b[0;34m\u001b[0m\u001b[0;34m\u001b[0m\u001b[0m\n",
      "\u001b[0;32m~/anaconda3/envs/pytorch_p39/lib/python3.9/site-packages/torch/nn/modules/module.py\u001b[0m in \u001b[0;36m_call_impl\u001b[0;34m(self, *input, **kwargs)\u001b[0m\n\u001b[1;32m   1192\u001b[0m         if not (self._backward_hooks or self._forward_hooks or self._forward_pre_hooks or _global_backward_hooks\n\u001b[1;32m   1193\u001b[0m                 or _global_forward_hooks or _global_forward_pre_hooks):\n\u001b[0;32m-> 1194\u001b[0;31m             \u001b[0;32mreturn\u001b[0m \u001b[0mforward_call\u001b[0m\u001b[0;34m(\u001b[0m\u001b[0;34m*\u001b[0m\u001b[0minput\u001b[0m\u001b[0;34m,\u001b[0m \u001b[0;34m**\u001b[0m\u001b[0mkwargs\u001b[0m\u001b[0;34m)\u001b[0m\u001b[0;34m\u001b[0m\u001b[0;34m\u001b[0m\u001b[0m\n\u001b[0m\u001b[1;32m   1195\u001b[0m         \u001b[0;31m# Do not call functions when jit is used\u001b[0m\u001b[0;34m\u001b[0m\u001b[0;34m\u001b[0m\u001b[0m\n\u001b[1;32m   1196\u001b[0m         \u001b[0mfull_backward_hooks\u001b[0m\u001b[0;34m,\u001b[0m \u001b[0mnon_full_backward_hooks\u001b[0m \u001b[0;34m=\u001b[0m \u001b[0;34m[\u001b[0m\u001b[0;34m]\u001b[0m\u001b[0;34m,\u001b[0m \u001b[0;34m[\u001b[0m\u001b[0;34m]\u001b[0m\u001b[0;34m\u001b[0m\u001b[0;34m\u001b[0m\u001b[0m\n",
      "\u001b[0;32m~/anaconda3/envs/pytorch_p39/lib/python3.9/site-packages/torch/nn/modules/rnn.py\u001b[0m in \u001b[0;36mforward\u001b[0;34m(self, input, hx)\u001b[0m\n\u001b[1;32m    770\u001b[0m             \u001b[0mhx\u001b[0m \u001b[0;34m=\u001b[0m \u001b[0mself\u001b[0m\u001b[0;34m.\u001b[0m\u001b[0mpermute_hidden\u001b[0m\u001b[0;34m(\u001b[0m\u001b[0mhx\u001b[0m\u001b[0;34m,\u001b[0m \u001b[0msorted_indices\u001b[0m\u001b[0;34m)\u001b[0m\u001b[0;34m\u001b[0m\u001b[0;34m\u001b[0m\u001b[0m\n\u001b[1;32m    771\u001b[0m \u001b[0;34m\u001b[0m\u001b[0m\n\u001b[0;32m--> 772\u001b[0;31m         \u001b[0mself\u001b[0m\u001b[0;34m.\u001b[0m\u001b[0mcheck_forward_args\u001b[0m\u001b[0;34m(\u001b[0m\u001b[0minput\u001b[0m\u001b[0;34m,\u001b[0m \u001b[0mhx\u001b[0m\u001b[0;34m,\u001b[0m \u001b[0mbatch_sizes\u001b[0m\u001b[0;34m)\u001b[0m\u001b[0;34m\u001b[0m\u001b[0;34m\u001b[0m\u001b[0m\n\u001b[0m\u001b[1;32m    773\u001b[0m         \u001b[0;32mif\u001b[0m \u001b[0mbatch_sizes\u001b[0m \u001b[0;32mis\u001b[0m \u001b[0;32mNone\u001b[0m\u001b[0;34m:\u001b[0m\u001b[0;34m\u001b[0m\u001b[0;34m\u001b[0m\u001b[0m\n\u001b[1;32m    774\u001b[0m             result = _VF.lstm(input, hx, self._flat_weights, self.bias, self.num_layers,\n",
      "\u001b[0;32m~/anaconda3/envs/pytorch_p39/lib/python3.9/site-packages/torch/nn/modules/rnn.py\u001b[0m in \u001b[0;36mcheck_forward_args\u001b[0;34m(self, input, hidden, batch_sizes)\u001b[0m\n\u001b[1;32m    696\u001b[0m                            ):\n\u001b[1;32m    697\u001b[0m         \u001b[0mself\u001b[0m\u001b[0;34m.\u001b[0m\u001b[0mcheck_input\u001b[0m\u001b[0;34m(\u001b[0m\u001b[0minput\u001b[0m\u001b[0;34m,\u001b[0m \u001b[0mbatch_sizes\u001b[0m\u001b[0;34m)\u001b[0m\u001b[0;34m\u001b[0m\u001b[0;34m\u001b[0m\u001b[0m\n\u001b[0;32m--> 698\u001b[0;31m         self.check_hidden_size(hidden[0], self.get_expected_hidden_size(input, batch_sizes),\n\u001b[0m\u001b[1;32m    699\u001b[0m                                'Expected hidden[0] size {}, got {}')\n\u001b[1;32m    700\u001b[0m         self.check_hidden_size(hidden[1], self.get_expected_cell_size(input, batch_sizes),\n",
      "\u001b[0;32m~/anaconda3/envs/pytorch_p39/lib/python3.9/site-packages/torch/nn/modules/rnn.py\u001b[0m in \u001b[0;36mcheck_hidden_size\u001b[0;34m(self, hx, expected_hidden_size, msg)\u001b[0m\n\u001b[1;32m    229\u001b[0m                           msg: str = 'Expected hidden size {}, got {}') -> None:\n\u001b[1;32m    230\u001b[0m         \u001b[0;32mif\u001b[0m \u001b[0mhx\u001b[0m\u001b[0;34m.\u001b[0m\u001b[0msize\u001b[0m\u001b[0;34m(\u001b[0m\u001b[0;34m)\u001b[0m \u001b[0;34m!=\u001b[0m \u001b[0mexpected_hidden_size\u001b[0m\u001b[0;34m:\u001b[0m\u001b[0;34m\u001b[0m\u001b[0;34m\u001b[0m\u001b[0m\n\u001b[0;32m--> 231\u001b[0;31m             \u001b[0;32mraise\u001b[0m \u001b[0mRuntimeError\u001b[0m\u001b[0;34m(\u001b[0m\u001b[0mmsg\u001b[0m\u001b[0;34m.\u001b[0m\u001b[0mformat\u001b[0m\u001b[0;34m(\u001b[0m\u001b[0mexpected_hidden_size\u001b[0m\u001b[0;34m,\u001b[0m \u001b[0mlist\u001b[0m\u001b[0;34m(\u001b[0m\u001b[0mhx\u001b[0m\u001b[0;34m.\u001b[0m\u001b[0msize\u001b[0m\u001b[0;34m(\u001b[0m\u001b[0;34m)\u001b[0m\u001b[0;34m)\u001b[0m\u001b[0;34m)\u001b[0m\u001b[0;34m)\u001b[0m\u001b[0;34m\u001b[0m\u001b[0;34m\u001b[0m\u001b[0m\n\u001b[0m\u001b[1;32m    232\u001b[0m \u001b[0;34m\u001b[0m\u001b[0m\n\u001b[1;32m    233\u001b[0m     \u001b[0;32mdef\u001b[0m \u001b[0mcheck_forward_args\u001b[0m\u001b[0;34m(\u001b[0m\u001b[0mself\u001b[0m\u001b[0;34m,\u001b[0m \u001b[0minput\u001b[0m\u001b[0;34m:\u001b[0m \u001b[0mTensor\u001b[0m\u001b[0;34m,\u001b[0m \u001b[0mhidden\u001b[0m\u001b[0;34m:\u001b[0m \u001b[0mTensor\u001b[0m\u001b[0;34m,\u001b[0m \u001b[0mbatch_sizes\u001b[0m\u001b[0;34m:\u001b[0m \u001b[0mOptional\u001b[0m\u001b[0;34m[\u001b[0m\u001b[0mTensor\u001b[0m\u001b[0;34m]\u001b[0m\u001b[0;34m)\u001b[0m\u001b[0;34m:\u001b[0m\u001b[0;34m\u001b[0m\u001b[0;34m\u001b[0m\u001b[0m\n",
      "\u001b[0;31mRuntimeError\u001b[0m: Expected hidden[0] size (3, 2081, 350), got [3, 500, 350]"
     ]
    }
   ],
   "source": [
    "net = torch.load('./RNN_10_epochs.pt')\n",
    "\n",
    "test_losses = [] # track loss\n",
    "num_correct = 0\n",
    "test_predictions = np.array([])\n",
    "test_labels = np.array([])\n",
    "\n",
    "# init hidden state\n",
    "h = net.init_hidden(batch_size)\n",
    "\n",
    "net.eval()\n",
    "# iterate over test data\n",
    "for inputs, labels in test_dataloader_0:\n",
    "\n",
    "    # Creating new variables for the hidden state, otherwise\n",
    "    # we'd backprop through the entire training history\n",
    "    h = tuple([each.data for each in h])\n",
    "\n",
    "    if(train_on_gpu):\n",
    "        inputs, labels = inputs.cuda(), labels.cuda()\n",
    "\n",
    "\n",
    "    output, h = net(inputs, h)\n",
    "\n",
    "    # calculate loss\n",
    "    # test_loss = criterion(output.squeeze(), labels.float().squeeze()) # for binary\n",
    "    test_loss = criterion(output.squeeze(), labels.float())\n",
    "\n",
    "    test_losses.append(test_loss.item())\n",
    "\n",
    "    # convert output probabilities to predicted class (0 or 1)\n",
    "    # pred = torch.round(output.squeeze())  # rounds to the nearest integer for binary\n",
    "\n",
    "    # compare predictions to true label\n",
    "    correct_tensor = output.eq(labels.float().view_as(output))\n",
    "    correct = np.squeeze(correct_tensor.numpy()) if not train_on_gpu else np.squeeze(correct_tensor.cpu().numpy())\n",
    "    num_correct += np.sum(correct)\n",
    "\n",
    "    # store predictions for post-processing\n",
    "    predicted = torch.max(output, 1).indices\n",
    "    test_predictions = np.concatenate((test_predictions, predicted.detach().cpu().numpy()))\n",
    "    test_labels = np.concatenate((test_labels, (torch.max(labels,dim=1).indices).cpu().numpy()))\n",
    "\n",
    "\n",
    "# -- stats! -- ##\n",
    "# avg test loss\n",
    "print(\"Test loss: {:.3f}\".format(np.mean(test_losses)))\n",
    "\n",
    "# accuracy over all test data\n",
    "print(test_predictions)\n",
    "print(test_labels)\n",
    "print(num_correct)\n",
    "num_correct = num_correct / 5\n",
    "print(len(test_dataloader.dataset))\n",
    "test_acc = num_correct/len(test_dataloader.dataset)\n",
    "print(\"Test accuracy: {:.3f}\".format(test_acc))"
   ]
  },
  {
   "cell_type": "code",
   "execution_count": null,
   "metadata": {
    "tags": []
   },
   "outputs": [],
   "source": [
    "eval(test_labels, test_predictions)"
   ]
  },
  {
   "cell_type": "code",
   "execution_count": null,
   "metadata": {},
   "outputs": [],
   "source": [
    "net = torch.load('./RNN_10_epochs.pt')\n",
    "\n",
    "test_losses = [] # track loss\n",
    "num_correct = 0\n",
    "test_predictions = np.array([])\n",
    "test_labels = np.array([])\n",
    "\n",
    "# init hidden state\n",
    "h = net.init_hidden(batch_size)\n",
    "\n",
    "net.eval()\n",
    "# iterate over test data\n",
    "for inputs, labels in test_dataloader_1:\n",
    "\n",
    "    # Creating new variables for the hidden state, otherwise\n",
    "    # we'd backprop through the entire training history\n",
    "    h = tuple([each.data for each in h])\n",
    "\n",
    "    if(train_on_gpu):\n",
    "        inputs, labels = inputs.cuda(), labels.cuda()\n",
    "\n",
    "\n",
    "    output, h = net(inputs, h)\n",
    "\n",
    "    # calculate loss\n",
    "    # test_loss = criterion(output.squeeze(), labels.float().squeeze()) # for binary\n",
    "    test_loss = criterion(output.squeeze(), labels.float())\n",
    "\n",
    "    test_losses.append(test_loss.item())\n",
    "\n",
    "    # convert output probabilities to predicted class (0 or 1)\n",
    "    # pred = torch.round(output.squeeze())  # rounds to the nearest integer for binary\n",
    "\n",
    "    # compare predictions to true label\n",
    "    correct_tensor = output.eq(labels.float().view_as(output))\n",
    "    correct = np.squeeze(correct_tensor.numpy()) if not train_on_gpu else np.squeeze(correct_tensor.cpu().numpy())\n",
    "    num_correct += np.sum(correct)\n",
    "\n",
    "    # store predictions for post-processing\n",
    "    predicted = torch.max(output, 1).indices\n",
    "    test_predictions = np.concatenate((test_predictions, predicted.detach().cpu().numpy()))\n",
    "    test_labels = np.concatenate((test_labels, (torch.max(labels,dim=1).indices).cpu().numpy()))\n",
    "\n",
    "\n",
    "# -- stats! -- ##\n",
    "# avg test loss\n",
    "print(\"Test loss: {:.3f}\".format(np.mean(test_losses)))\n",
    "\n",
    "# accuracy over all test data\n",
    "print(test_predictions)\n",
    "print(test_labels)\n",
    "print(num_correct)\n",
    "num_correct = num_correct / 5\n",
    "print(len(test_dataloader.dataset))\n",
    "test_acc = num_correct/len(test_dataloader.dataset)\n",
    "print(\"Test accuracy: {:.3f}\".format(test_acc))"
   ]
  },
  {
   "cell_type": "code",
   "execution_count": null,
   "metadata": {},
   "outputs": [],
   "source": [
    "eval(test_labels, test_predictions)"
   ]
  },
  {
   "cell_type": "code",
   "execution_count": null,
   "metadata": {},
   "outputs": [],
   "source": []
  }
 ],
 "metadata": {
  "accelerator": "GPU",
  "colab": {
   "gpuType": "T4",
   "provenance": []
  },
  "gpuClass": "standard",
  "kernelspec": {
   "display_name": "conda_pytorch_p39",
   "language": "python",
   "name": "conda_pytorch_p39"
  },
  "language_info": {
   "codemirror_mode": {
    "name": "ipython",
    "version": 3
   },
   "file_extension": ".py",
   "mimetype": "text/x-python",
   "name": "python",
   "nbconvert_exporter": "python",
   "pygments_lexer": "ipython3",
   "version": "3.9.15"
  }
 },
 "nbformat": 4,
 "nbformat_minor": 4
}
